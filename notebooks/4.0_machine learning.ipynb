{
 "cells": [
  {
   "cell_type": "code",
   "execution_count": 6,
   "id": "ccc64910",
   "metadata": {},
   "outputs": [],
   "source": [
    "import pandas as pd\n",
    "from sklearn.model_selection import train_test_split\n",
    "from sklearn.preprocessing import OneHotEncoder, StandardScaler, PolynomialFeatures\n",
    "from sklearn.compose import ColumnTransformer\n",
    "from sklearn.pipeline import Pipeline\n",
    "from sklearn.ensemble import RandomForestRegressor\n",
    "from sklearn.model_selection import GridSearchCV, cross_val_score\n",
    "from sklearn.impute import SimpleImputer"
   ]
  },
  {
   "cell_type": "code",
   "execution_count": 7,
   "id": "e7c0bd96",
   "metadata": {},
   "outputs": [
    {
     "data": {
      "text/plain": [
       "(753, 13)"
      ]
     },
     "execution_count": 7,
     "metadata": {},
     "output_type": "execute_result"
    }
   ],
   "source": [
    "# Charger les données\n",
    "data = pd.read_csv(\"total_out_clean.csv\")\n",
    "data.shape\n"
   ]
  },
  {
   "cell_type": "code",
   "execution_count": 11,
   "id": "e8fe7212",
   "metadata": {},
   "outputs": [
    {
     "name": "stdout",
     "output_type": "stream",
     "text": [
      "Linear Regression Model R² score: 0.5092203332892862\n"
     ]
    }
   ],
   "source": [
    "from sklearn.linear_model import LinearRegression\n",
    "# Data preprocessing\n",
    "data['period_start'] = pd.to_datetime(data['period_start'])\n",
    "data['period_end'] = pd.to_datetime(data['period_end'])\n",
    "data['duration'] = (data['period_end'] - data['period_start']).dt.days\n",
    "\n",
    "# Define features and target\n",
    "X = data[['old_price', 'Type', 'pays', 'region', 'voyageurs', 'rooms', 'bed', 'bathroom', 'duration', 'new_rating']]\n",
    "y = data['price']\n",
    "\n",
    "# Identify numeric and categorical features\n",
    "numeric_features = ['old_price', 'voyageurs', 'rooms', 'bed', 'bathroom', 'duration', 'new_rating']\n",
    "categorical_features = ['Type', 'pays', 'region']\n",
    "\n",
    "# Define preprocessors for numeric and categorical features separately\n",
    "numeric_transformer = Pipeline(steps=[\n",
    "    ('scaler', StandardScaler()),\n",
    "])\n",
    "\n",
    "categorical_transformer = Pipeline(steps=[\n",
    "    ('imputer', SimpleImputer(strategy='most_frequent')),\n",
    "    ('onehot', OneHotEncoder(handle_unknown='ignore'))\n",
    "])\n",
    "\n",
    "# Combine preprocessors\n",
    "preprocessor = ColumnTransformer(\n",
    "    transformers=[\n",
    "        ('num', numeric_transformer, numeric_features),\n",
    "        ('cat', categorical_transformer, categorical_features)\n",
    "    ])\n",
    "\n",
    "# Define the model\n",
    "lr = LinearRegression()\n",
    "\n",
    "# Model pipeline\n",
    "model = Pipeline(steps=[('preprocessor', preprocessor), ('linear_regression', lr)])\n",
    "X_train, X_test, y_train, y_test = train_test_split(X, y, test_size=0.2, random_state=0)\n",
    "\n",
    "# Train\n",
    "model.fit(X_train, y_train)\n",
    "\n",
    "# Use the model to predict and score\n",
    "score_lr = model.score(X_test, y_test)\n",
    "print(f'Linear Regression Model R² score: {score_lr}')"
   ]
  },
  {
   "cell_type": "code",
   "execution_count": 12,
   "id": "0cd480da",
   "metadata": {},
   "outputs": [
    {
     "name": "stdout",
     "output_type": "stream",
     "text": [
      "Best parameters for XGBoost: {'learning_rate': 0.1, 'max_depth': 5, 'n_estimators': 100}\n",
      "XGBoost Model R² score: 0.7451998839185947\n"
     ]
    }
   ],
   "source": [
    "from xgboost import XGBRegressor\n",
    "\n",
    "# Define the model\n",
    "xgb = XGBRegressor(random_state=42)\n",
    "\n",
    "# Define hyperparameters to tune\n",
    "param_grid = {\n",
    "    'n_estimators': [50, 100],   \n",
    "    'max_depth': [3, 5],\n",
    "    'learning_rate': [0.1, 0.01]\n",
    "}\n",
    "\n",
    "# Set up Grid Search\n",
    "grid_search = GridSearchCV(estimator=xgb, param_grid=param_grid, cv=4, n_jobs=-1, scoring='r2')\n",
    "model = Pipeline(steps=[('preprocessor', preprocessor),('grid_search', grid_search)])\n",
    "X_train, X_test, y_train, y_test = train_test_split(X, y, test_size=0.2, random_state=0)\n",
    "\n",
    "\n",
    "# Train \n",
    "model.fit(X_train, y_train)\n",
    "best_params = model.named_steps['grid_search'].best_params_\n",
    "print(f'Best parameters for XGBoost: {best_params}')\n",
    "\n",
    "# Use the pipeline to predict and score\n",
    "score_xgb = model.score(X_test, y_test)\n",
    "print(f'XGBoost Model R² score: {score_xgb}')"
   ]
  },
  {
   "cell_type": "code",
   "execution_count": 13,
   "id": "501f617c",
   "metadata": {},
   "outputs": [
    {
     "name": "stdout",
     "output_type": "stream",
     "text": [
      "Cet appartement Coute : 793.7935791015625 euros\n"
     ]
    }
   ],
   "source": [
    "PRIX = model.predict(X_test.iloc[:1])\n",
    "\n",
    "print(\"Cet appartement Coute : {} euros\".format(PRIX[0]))"
   ]
  },
  {
   "cell_type": "markdown",
   "id": "aeaecde7",
   "metadata": {},
   "source": [
    "# Analyse\n",
    "\n",
    "Régression Linéaire :\n",
    "R² Score : 0.5092\n",
    "Le modèle de régression linéaire explique environ 51% de la variance des prix des appartements. Ce score indique que le modèle a une performance modérée, mais il laisse encore beaucoup de variance non expliquée.\n",
    "\n",
    "XGBoost :\n",
    "R² Score : 0.7452\n",
    "Le modèle XGBoost explique environ 75% de la variance des prix des appartements. Ce score est nettement supérieur à celui de la régression linéaire, ce qui indique que XGBoost capture beaucoup mieux les relations complexes dans les données.\n",
    "\n",
    "Cela montre que XGboost est plus adapté pour ce jeu de données et est capable de modéliser des relations plus complexes entre les variables indépendantes et le prix des appartements."
   ]
  },
  {
   "cell_type": "code",
   "execution_count": null,
   "id": "22ff0ad3",
   "metadata": {},
   "outputs": [],
   "source": []
  }
 ],
 "metadata": {
  "kernelspec": {
   "display_name": "Python 3 (ipykernel)",
   "language": "python",
   "name": "python3"
  },
  "language_info": {
   "codemirror_mode": {
    "name": "ipython",
    "version": 3
   },
   "file_extension": ".py",
   "mimetype": "text/x-python",
   "name": "python",
   "nbconvert_exporter": "python",
   "pygments_lexer": "ipython3",
   "version": "3.9.13"
  }
 },
 "nbformat": 4,
 "nbformat_minor": 5
}
